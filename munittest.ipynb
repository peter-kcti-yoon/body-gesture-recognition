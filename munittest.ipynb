{
 "cells": [
  {
   "cell_type": "code",
   "execution_count": 1,
   "metadata": {},
   "outputs": [
    {
     "name": "stdout",
     "output_type": "stream",
     "text": [
      "tensor([[0.3072, 0.2780, 0.4147]])\n"
     ]
    }
   ],
   "source": [
    "import torch\n",
    "import numpy as np\n",
    "sf = torch.nn.Softmax(1)\n",
    "\n",
    "\n",
    "ins = torch.Tensor(np.array([[0.2,0.1,0.5]]))\n",
    "\n",
    "res =  sf(ins)\n",
    "print(res)"
   ]
  },
  {
   "cell_type": "code",
   "execution_count": 2,
   "metadata": {},
   "outputs": [
    {
     "data": {
      "text/plain": [
       "'/home/peter/Workspace/Codes/body-gesture-recognition'"
      ]
     },
     "execution_count": 2,
     "metadata": {},
     "output_type": "execute_result"
    }
   ],
   "source": [
    "import os\n",
    "os.getcwd()"
   ]
  },
  {
   "cell_type": "code",
   "execution_count": 3,
   "metadata": {},
   "outputs": [],
   "source": [
    "import numpy as np\n",
    "\n",
    "a = np.load('data/data3/data_p95_s001.npy',allow_pickle=True)"
   ]
  },
  {
   "cell_type": "code",
   "execution_count": 11,
   "metadata": {},
   "outputs": [
    {
     "data": {
      "text/plain": [
       "'background'"
      ]
     },
     "execution_count": 11,
     "metadata": {},
     "output_type": "execute_result"
    }
   ],
   "source": [
    "a[0][0]"
   ]
  },
  {
   "cell_type": "code",
   "execution_count": 13,
   "metadata": {},
   "outputs": [],
   "source": [
    "def read_data():\n",
    "    path = './data/data1'\n",
    "    npy_list, label_list = [], []\n",
    "    for root,_,flist in os.walk(path):\n",
    "        for ff in flist:\n",
    "            if ff.endswith('npy'):\n",
    "                npy = np.load(os.path.join(root,ff),allow_pickle=True)\n",
    "                \"\"\"\n",
    "                npy = [ label_list, kp_list ]\n",
    "                labe_list= [y1, y2, y3...]\n",
    "                kp_list = [ kp1, kp2, kp3]\n",
    "                kp = body+rh+lh\n",
    "                \"\"\"\n",
    "\n",
    "                npy_list.append(npy[1])\n",
    "                label_list.append(npy[0])\n",
    "    return np.vstack(npy_list), np.vstack(label_list)\n",
    "\n",
    "kp_list, y_list = read_data()"
   ]
  },
  {
   "cell_type": "code",
   "execution_count": 29,
   "metadata": {},
   "outputs": [
    {
     "data": {
      "text/plain": [
       "0.5"
      ]
     },
     "execution_count": 29,
     "metadata": {},
     "output_type": "execute_result"
    }
   ],
   "source": [
    "from sklearn.metrics import accuracy_score\n",
    "y_pred = [0, 2, 1, 3]\n",
    "y_true = [0, 1, 2, 3]\n",
    "accuracy_score(y_true, y_pred)"
   ]
  },
  {
   "cell_type": "code",
   "execution_count": 3,
   "metadata": {},
   "outputs": [
    {
     "data": {
      "text/plain": [
       "5"
      ]
     },
     "execution_count": 3,
     "metadata": {},
     "output_type": "execute_result"
    }
   ],
   "source": [
    "import torch\n",
    "import numpy as np\n",
    "a= torch.Tensor(np.array([4,4,4,44,1]))\n",
    "a.shape[0]"
   ]
  },
  {
   "cell_type": "code",
   "execution_count": 30,
   "metadata": {},
   "outputs": [
    {
     "data": {
      "text/plain": [
       "2"
      ]
     },
     "execution_count": 30,
     "metadata": {},
     "output_type": "execute_result"
    }
   ],
   "source": [
    "accuracy_score(y_true, y_pred, normalize=False)"
   ]
  },
  {
   "cell_type": "code",
   "execution_count": 24,
   "metadata": {},
   "outputs": [],
   "source": [
    "kp_list[0].shape\n",
    "skeleton = kp_list[1]\n",
    "\n",
    "from utils.utils import *\n",
    "body, rh ,lh = split_keypoints(skeleton)"
   ]
  },
  {
   "cell_type": "code",
   "execution_count": 27,
   "metadata": {},
   "outputs": [
    {
     "data": {
      "text/plain": [
       "(63,)"
      ]
     },
     "execution_count": 27,
     "metadata": {},
     "output_type": "execute_result"
    }
   ],
   "source": [
    "rh.shape"
   ]
  },
  {
   "cell_type": "code",
   "execution_count": 63,
   "metadata": {},
   "outputs": [
    {
     "data": {
      "text/plain": [
       "(2, 815)"
      ]
     },
     "execution_count": 63,
     "metadata": {},
     "output_type": "execute_result"
    }
   ],
   "source": [
    "import numpy as np\n",
    "a = np.load('./data/data3/data_p95_s001.npy', allow_pickle=True)\n",
    "a.shape\n"
   ]
  },
  {
   "cell_type": "code",
   "execution_count": 64,
   "metadata": {},
   "outputs": [
    {
     "name": "stdout",
     "output_type": "stream",
     "text": [
      "815\n",
      "815\n"
     ]
    }
   ],
   "source": [
    "print(len(a[0]))\n",
    "print(len(a[1]))\n"
   ]
  },
  {
   "cell_type": "code",
   "execution_count": 73,
   "metadata": {},
   "outputs": [
    {
     "data": {
      "text/plain": [
       "array([['1.0', '1.0', '1.0', 'aa'],\n",
       "       ['1.0', '1.0', '1.0', 'aa']], dtype='<U32')"
      ]
     },
     "execution_count": 73,
     "metadata": {},
     "output_type": "execute_result"
    }
   ],
   "source": [
    "k = np.ones((2,3))\n",
    "s = np.array(['aa','aa']).reshape(-1,1)\n",
    "\n",
    "np.append(k,s, axis=1)"
   ]
  },
  {
   "cell_type": "code",
   "execution_count": 84,
   "metadata": {},
   "outputs": [],
   "source": [
    "a = np.load('./data/data3/data_p01_s001.npy')"
   ]
  },
  {
   "cell_type": "code",
   "execution_count": 89,
   "metadata": {},
   "outputs": [
    {
     "data": {
      "text/plain": [
       "(2139,)"
      ]
     },
     "execution_count": 89,
     "metadata": {},
     "output_type": "execute_result"
    }
   ],
   "source": [
    "from main import _read_data\n",
    "a,b=_read_data()\n",
    "b.shape"
   ]
  },
  {
   "cell_type": "code",
   "execution_count": 92,
   "metadata": {},
   "outputs": [
    {
     "data": {
      "text/plain": [
       "0.0001"
      ]
     },
     "execution_count": 92,
     "metadata": {},
     "output_type": "execute_result"
    }
   ],
   "source": [
    "1e-4"
   ]
  },
  {
   "cell_type": "code",
   "execution_count": 94,
   "metadata": {},
   "outputs": [
    {
     "data": {
      "text/plain": [
       "array([0, 1, 2, 3, 4, 5, 6, 7, 8])"
      ]
     },
     "execution_count": 94,
     "metadata": {},
     "output_type": "execute_result"
    }
   ],
   "source": [
    "a = np.array([x for x in range(1,10)])\n",
    "a-a[0]"
   ]
  },
  {
   "cell_type": "code",
   "execution_count": 1,
   "metadata": {},
   "outputs": [
    {
     "data": {
      "text/plain": [
       "'n01770081'"
      ]
     },
     "execution_count": 1,
     "metadata": {},
     "output_type": "execute_result"
    }
   ],
   "source": [
    "a = 'n0177008100000662.jpg'\n",
    "a[:-12]"
   ]
  },
  {
   "cell_type": "code",
   "execution_count": 47,
   "metadata": {},
   "outputs": [
    {
     "name": "stdout",
     "output_type": "stream",
     "text": [
      "0.0004341602325439453\n"
     ]
    },
    {
     "data": {
      "text/plain": [
       "(1329, 258)"
      ]
     },
     "execution_count": 47,
     "metadata": {},
     "output_type": "execute_result"
    }
   ],
   "source": [
    "import numpy as np\n",
    "import pandas as pd\n",
    "import time\n",
    "npy_file_list = ['data_p01_s001.npy','data_p01_s002.npy','data_p01_s003.npy']\n",
    "\n",
    "s = np.load('./data/data3/data_p01_s001.npy')\n",
    "ss = s[:,:-1]\n",
    "ckpt = time.time()\n",
    "sss = np.delete(ss, [4], axis=0)\n",
    "took = time.time() -ckpt\n",
    "print(took)\n",
    "\n",
    "sss.shape\n",
    "# pd.Series(s[:,:-1])\n",
    "# df = pd.DataFrame({'skeleton': s[:,:-1], 'label':s[:,-1]}, columns=['skeleton','label'])\n",
    "# df.head(1)\n",
    "\n"
   ]
  },
  {
   "cell_type": "code",
   "execution_count": null,
   "metadata": {},
   "outputs": [],
   "source": []
  },
  {
   "cell_type": "code",
   "execution_count": 21,
   "metadata": {},
   "outputs": [],
   "source": [
    "\n",
    "def get_label_starting_index(y):\n",
    "    indices = []\n",
    "    label = -1\n",
    "    for i, l in enumerate(y):\n",
    "        if label!= l:\n",
    "            label = l\n",
    "            indices.append(i)\n",
    "    return indices"
   ]
  },
  {
   "cell_type": "code",
   "execution_count": 28,
   "metadata": {},
   "outputs": [
    {
     "name": "stdout",
     "output_type": "stream",
     "text": [
      "(1330, 258) (1330,)\n",
      "(630, 258) (630,)\n"
     ]
    }
   ],
   "source": [
    "idx = get_label_starting_index(y)\n",
    "\n",
    "print(x.shape, y.shape)\n",
    "\n",
    "x = x[np.where(y!=0)]\n",
    "y = y[np.where(y!=0)]\n",
    "\n",
    "print(x.shape, y.shape)\n"
   ]
  },
  {
   "cell_type": "code",
   "execution_count": 1,
   "metadata": {},
   "outputs": [
    {
     "data": {
      "text/plain": [
       "(7, 2)"
      ]
     },
     "execution_count": 1,
     "metadata": {},
     "output_type": "execute_result"
    }
   ],
   "source": [
    "import numpy as np\n",
    "\n",
    "a = np.load('./weights/trip2_lr0.0001_ep400/centroids.npy')\n",
    "a.shape"
   ]
  }
 ],
 "metadata": {
  "interpreter": {
   "hash": "eedc4d6070d58bcbc9a166911f55ddb61eac457eb08f2c64bea85fc361920d6a"
  },
  "kernelspec": {
   "display_name": "Python 3.7.11 ('media1')",
   "language": "python",
   "name": "python3"
  },
  "language_info": {
   "codemirror_mode": {
    "name": "ipython",
    "version": 3
   },
   "file_extension": ".py",
   "mimetype": "text/x-python",
   "name": "python",
   "nbconvert_exporter": "python",
   "pygments_lexer": "ipython3",
   "version": "3.7.11"
  },
  "orig_nbformat": 4
 },
 "nbformat": 4,
 "nbformat_minor": 2
}
