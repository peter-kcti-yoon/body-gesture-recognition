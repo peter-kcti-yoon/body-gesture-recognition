{
 "cells": [
  {
   "cell_type": "code",
   "execution_count": 1,
   "metadata": {},
   "outputs": [
    {
     "name": "stdout",
     "output_type": "stream",
     "text": [
      "tensor([[0.3072, 0.2780, 0.4147]])\n"
     ]
    }
   ],
   "source": [
    "import torch\n",
    "import numpy as np\n",
    "sf = torch.nn.Softmax(1)\n",
    "\n",
    "\n",
    "ins = torch.Tensor(np.array([[0.2,0.1,0.5]]))\n",
    "\n",
    "res =  sf(ins)\n",
    "print(res)"
   ]
  },
  {
   "cell_type": "code",
   "execution_count": 2,
   "metadata": {},
   "outputs": [
    {
     "data": {
      "text/plain": [
       "'/home/peter/Workspace/Codes/body-gesture-recognition'"
      ]
     },
     "execution_count": 2,
     "metadata": {},
     "output_type": "execute_result"
    }
   ],
   "source": [
    "import os\n",
    "os.getcwd()"
   ]
  },
  {
   "cell_type": "code",
   "execution_count": 3,
   "metadata": {},
   "outputs": [],
   "source": [
    "import numpy as np\n",
    "\n",
    "a = np.load('data/data3/data_p95_s001.npy',allow_pickle=True)"
   ]
  },
  {
   "cell_type": "code",
   "execution_count": 11,
   "metadata": {},
   "outputs": [
    {
     "data": {
      "text/plain": [
       "'background'"
      ]
     },
     "execution_count": 11,
     "metadata": {},
     "output_type": "execute_result"
    }
   ],
   "source": [
    "a[0][0]"
   ]
  },
  {
   "cell_type": "code",
   "execution_count": 13,
   "metadata": {},
   "outputs": [],
   "source": [
    "def read_data():\n",
    "    path = './data/data1'\n",
    "    npy_list, label_list = [], []\n",
    "    for root,_,flist in os.walk(path):\n",
    "        for ff in flist:\n",
    "            if ff.endswith('npy'):\n",
    "                npy = np.load(os.path.join(root,ff),allow_pickle=True)\n",
    "                \"\"\"\n",
    "                npy = [ label_list, kp_list ]\n",
    "                labe_list= [y1, y2, y3...]\n",
    "                kp_list = [ kp1, kp2, kp3]\n",
    "                kp = body+rh+lh\n",
    "                \"\"\"\n",
    "\n",
    "                npy_list.append(npy[1])\n",
    "                label_list.append(npy[0])\n",
    "    return np.vstack(npy_list), np.vstack(label_list)\n",
    "\n",
    "kp_list, y_list = read_data()"
   ]
  },
  {
   "cell_type": "code",
   "execution_count": 24,
   "metadata": {},
   "outputs": [],
   "source": [
    "kp_list[0].shape\n",
    "skeleton = kp_list[1]\n",
    "\n",
    "from utils.utils import *\n",
    "body, rh ,lh = split_keypoints(skeleton)"
   ]
  },
  {
   "cell_type": "code",
   "execution_count": 27,
   "metadata": {},
   "outputs": [
    {
     "data": {
      "text/plain": [
       "(63,)"
      ]
     },
     "execution_count": 27,
     "metadata": {},
     "output_type": "execute_result"
    }
   ],
   "source": [
    "rh.shape"
   ]
  }
 ],
 "metadata": {
  "interpreter": {
   "hash": "eedc4d6070d58bcbc9a166911f55ddb61eac457eb08f2c64bea85fc361920d6a"
  },
  "kernelspec": {
   "display_name": "Python 3.7.11 ('media1')",
   "language": "python",
   "name": "python3"
  },
  "language_info": {
   "codemirror_mode": {
    "name": "ipython",
    "version": 3
   },
   "file_extension": ".py",
   "mimetype": "text/x-python",
   "name": "python",
   "nbconvert_exporter": "python",
   "pygments_lexer": "ipython3",
   "version": "3.7.11"
  },
  "orig_nbformat": 4
 },
 "nbformat": 4,
 "nbformat_minor": 2
}
